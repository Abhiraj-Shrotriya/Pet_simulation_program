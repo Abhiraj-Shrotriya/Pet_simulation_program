{
 "cells": [
  {
   "cell_type": "markdown",
   "metadata": {
    "tags": []
   },
   "source": [
    "# Programming Mini-Project : Pet simulation Program\n",
    "# Level 8\n",
    "## Author - Abhiraj Shrotriya\n",
    "## Date - 9 December 2023\n",
    "## Version 1\n"
   ]
  },
  {
   "cell_type": "markdown",
   "metadata": {},
   "source": [
    "# Project Title - Pet Simulation Program\n",
    "\n",
    "## Summary of the Project\n",
    "\n",
    "This is a procedural program that simulates pets that the player must look after.\n",
    "\n",
    "The program first asks for the species of the pet and then its name and then wishes the pet Zeroth Happy Birthday. It also tells how happy the pet is on a scale of 1-5."
   ]
  },
  {
   "cell_type": "markdown",
   "metadata": {},
   "source": [
    "## Justification that the project passes this level\n",
    "This is based on tick boxes at start of the level description for this mini-project.\n",
    "- I can EXPLAIN HOW MY PROGRAM WORKS.\n",
    "<br/>\n",
    "- I wrote this project myself.\n",
    "<br/>\n",
    "- The program includes Screen Output and Keyboard input.\n",
    "<br/>\n",
    "- The program is split into methods that do a well-defined task.\n",
    "<br/>\n",
    "- The program uses a sequence of method calls.\n",
    "<br/>\n",
    "- The final program includes a comment at the start that gives at least the author's name and student ID number.\n",
    "<br/>\n",
    "- I have written a literate version of this program -\n",
    "<br/>\n",
    "    - documenting each method\n",
    "<br/>\n",
    "    - including a test plan for each method\n",
    "<br/>\n",
    "    - included a test plan for the whole program\n",
    "<br/>\n",
    "    - included a full version of the program at the end\n",
    "<br/> \n",
    "- The program includes variables, assignment and expressions.\n",
    "<br/>\n",
    "- The program defines and uses at least one method that returns a result.\n",
    "<br/>\n",
    "- The program has proper indentation.\n",
    "<br/>\n",
    "- The program has comments that give at least the author's name and student ID and what the program as a whole does.\n",
    "<br/>\n",
    "- All the variables are defined inside methods.\n",
    "<br/>\n",
    "- My program includes decision statements.\n",
    "<br/>\n",
    "- My program defines statements that take arguments.\n",
    "<br/>\n",
    "- My program includes Loops.\n",
    "<br/>\n",
    "- My program is well-structured into separate methods.\n",
    "<br/>\n",
    "- My program includes helpful comments for each method.\n",
    "<br/>\n",
    "- Variable names give a hint to their purpose.\n",
    "<br/>\n",
    "- My program use Arrays, Loops within loops and loop iterated arrays.\n",
    "<br/>\n",
    "- My program defines and uses methods that take arrays as arguments.\n",
    "<br/>\n",
    "- All the variables have minimum scope.\n",
    "<br/>\n",
    "- My program includes and uses records correctly.\n",
    "<br/>\n",
    "- My program uses file input and output\n",
    "<br/>\n",
    "- My program uses Abstract Data Types correctly and defines procedural programming accessor methods."
   ]
  },
  {
   "cell_type": "markdown",
   "metadata": {},
   "source": [
    "## The literate program development"
   ]
  },
  {
   "cell_type": "markdown",
   "metadata": {},
   "source": [
    "### record/ADT Pet\n",
    "\n",
    "\n",
    "#### What it does\n",
    "\n",
    "A record/ADT for storing pets' information.\n",
    "\n",
    "#### Implementation (how it works)\n",
    "\n",
    "Two String type fields ```name``` and ```species``` are defined and one integer type field ```happyLevel``` is defined."
   ]
  },
  {
   "cell_type": "code",
   "execution_count": 1,
   "metadata": {},
   "outputs": [],
   "source": [
    "// class Pet START\n",
    "// A record/ADT for pets.\n",
    "class Pet{\n",
    "    String name;\n",
    "    String species;\n",
    "    int happyLevel;\n",
    "}// class Pet END"
   ]
  },
  {
   "cell_type": "markdown",
   "metadata": {},
   "source": [
    "#### Testing"
   ]
  },
  {
   "cell_type": "code",
   "execution_count": 2,
   "metadata": {},
   "outputs": [
    {
     "name": "stdout",
     "output_type": "stream",
     "text": [
      "Name -> Alex\n",
      "Species -> Dog\n",
      "Pet Happy Level -> 4\n"
     ]
    }
   ],
   "source": [
    "// TEST CODE for class pet\n",
    "\n",
    "Pet pet = new Pet();\n",
    "\n",
    "pet.name = \"Alex\";\n",
    "pet.species = \"Dog\";\n",
    "pet.happyLevel = 4;\n",
    "\n",
    "System.out.println(\"Name -> \" + pet.name);\n",
    "System.out.println(\"Species -> \" + pet.species);\n",
    "System.out.println(\"Pet Happy Level -> \" + pet.happyLevel);\n"
   ]
  },
  {
   "cell_type": "markdown",
   "metadata": {},
   "source": [
    "### inputString\n",
    "\n",
    "#### What it does\n",
    "\n",
    "This method prints/displays a message to the user and then prompts the user to type in something.\n",
    "<br/>\n",
    "It takes one String argument. It returns a String.\n",
    "\n",
    "#### Implementation (how it works)\n",
    "\n",
    "In this method, a String type variable 'response' is declared to store whatever the user types in. Then a Scanner type variable 'keyboard' is declared to take input from the user. \n",
    "\n",
    "The ```System.out.println()``` method is used to print/display any message(stored in String type argument message) given to this method as an argument.\n",
    "\n",
    "The ```keyboard.nextLine()``` method is called out to prompt the user to type/input their response.\n",
    "<br/>\n",
    "This response is then assigned to the newly declared variable 'response'. \n",
    "<br/>\n",
    "For example, if the user typed \"dog\". A copy of the String literal \"dog\" would get stored into the variable 'response'.\n",
    "\n",
    "The method now reaches the end and returns the value stored in 'response' to the method call statement. From above example, the string value \"dog\" will be returned."
   ]
  },
  {
   "cell_type": "code",
   "execution_count": 3,
   "metadata": {},
   "outputs": [],
   "source": [
    "// inputString START\n",
    "// This method prints/displays a message to the user and then prompts the user to type in something.\n",
    "public static String inputString (String message){\n",
    "\n",
    "    String response;\n",
    "    Scanner keyboard = new Scanner(System.in);\n",
    "\n",
    "    System.out.println(message);\n",
    "    response = keyboard.nextLine();\n",
    "\n",
    "    return response;\n",
    "}// END inputString"
   ]
  },
  {
   "cell_type": "markdown",
   "metadata": {},
   "source": [
    "#### Testing"
   ]
  },
  {
   "cell_type": "code",
   "execution_count": 4,
   "metadata": {},
   "outputs": [
    {
     "name": "stdout",
     "output_type": "stream",
     "text": [
      "Enter Something here!\n"
     ]
    },
    {
     "name": "stdin",
     "output_type": "stream",
     "text": [
      " Hello\n"
     ]
    },
    {
     "data": {
      "text/plain": [
       "Hello"
      ]
     },
     "execution_count": 4,
     "metadata": {},
     "output_type": "execute_result"
    }
   ],
   "source": [
    "// TEST CODE for method inputString\n",
    "\n",
    "inputString(\"Enter Something here!\");"
   ]
  },
  {
   "cell_type": "markdown",
   "metadata": {},
   "source": [
    "### inputInt\n",
    "\n",
    "#### What it does\n",
    "\n",
    "It prints out a message to the user and then asks the user to type in an Integer as a response.\n",
    "<br/>\n",
    "The method takes in a String type argument ```message```.\n",
    "<br/>\n",
    "It returns the response typed in by the user.\n",
    "\n",
    "#### Implementation (how it works)\n",
    "\n",
    "A String type variable ```stringResponse```, an integer type variable ```intResponse``` and a Scanner type variable ```keyboard``` are declared.\n",
    "<br/>\n",
    "The ```System.out.println()``` method is used to print/display the String value stored in the argument/variable ```message```. \n",
    "<br/>\n",
    "Then the ```keyboard.nextLine()``` method is called to prompt the user to type in a String value.\n",
    "<br/>\n",
    "Then a copy of the response from the user is assigned to the variable ```stringResponse```.\n",
    "<br/>\n",
    "The ```Integer.parseInt()``` method is called on the variable ```stringResponse``` to convert a copy of the string value present in it (variable 'response') into an Integer.\n",
    "<br/>\n",
    "The value returned is stored into the variable ```intResponse```.\n",
    "<br/>\n",
    "The Integer value now stored in variable ```intResponse``` is returned by this method.\n"
   ]
  },
  {
   "cell_type": "code",
   "execution_count": 5,
   "metadata": {},
   "outputs": [],
   "source": [
    "// inputInt START\n",
    "// It prints out a message to the user and then asks the user to type in an Integer as a response.\n",
    "public static int inputInt( String message ){\n",
    "\n",
    "    String stringResponse;\n",
    "    int intResponse;\n",
    "    Scanner keyboard = new Scanner(System.in);\n",
    "\n",
    "    System.out.println(message);\n",
    "    stringResponse = keyboard.nextLine();\n",
    "    intResponse = Integer.parseInt(stringResponse);\n",
    "\n",
    "    return intResponse;\n",
    "}// END inputInt"
   ]
  },
  {
   "cell_type": "markdown",
   "metadata": {},
   "source": [
    "#### Testing"
   ]
  },
  {
   "cell_type": "code",
   "execution_count": 6,
   "metadata": {},
   "outputs": [
    {
     "name": "stdout",
     "output_type": "stream",
     "text": [
      "Enter a number :\n"
     ]
    },
    {
     "name": "stdin",
     "output_type": "stream",
     "text": [
      " 123\n"
     ]
    },
    {
     "data": {
      "text/plain": [
       "123"
      ]
     },
     "execution_count": 6,
     "metadata": {},
     "output_type": "execute_result"
    }
   ],
   "source": [
    "// TEST CODE for inputInt\n",
    "\n",
    "inputInt(\"Enter a number :\");"
   ]
  },
  {
   "cell_type": "markdown",
   "metadata": {},
   "source": [
    "### askPetSpecies\n",
    "\n",
    "#### What it does\n",
    "\n",
    "This method asks the user if their pet is a dog, cat, fish or any other species of animal.\n",
    "<br/>\n",
    "The method returns the response given by the user.\n",
    "\n",
    "#### Implementation (how it works)\n",
    "\n",
    "In this method, a String type variable 'petSpecies' is declared to store the pet species later in the program.\n",
    "\n",
    "The inputString method defined earlier is called to ask the user - \"What is the species of your pet animal? (eg. Dog, Cat, Fish, etc.)\". This String is passed to inputString method as an argument. The user is prompted by inputString method to enter a response.\n",
    "\n",
    "This response is returned by the inputString method and stored into the newly created variable 'petSpecies' by assignment.\n",
    "<br/>\n",
    "For example, if the user typed \"dog\". A copy of the String literal \"dog\" would get stored into the variable petSpecies.\n",
    "\n",
    "A sweet reply is then printed/displayed to the user that the program loves the species of the user's pet. From the above example, the output would be \"I love the animal species dog!\".\n",
    "\n",
    "The method now reaches the end and returns the value stored in petSpecies to the method call statement."
   ]
  },
  {
   "cell_type": "code",
   "execution_count": 7,
   "metadata": {},
   "outputs": [],
   "source": [
    "// askPetSpecies START\n",
    "// This method asks the user if their pet is a dog, cat, fish or any other species of animal.\n",
    "public static String askPetSpecies () {\n",
    "    \n",
    "    String petSpecies;\n",
    "\n",
    "    petSpecies = inputString(\"What is the species of your pet animal? (eg. Dog, Cat, Fish, etc.)\");\n",
    "    \n",
    "    System.out.println(\"I love the animal species \" + petSpecies + \"!\");\n",
    "\n",
    "    return petSpecies;\n",
    "}//END of askPetSpecies"
   ]
  },
  {
   "cell_type": "markdown",
   "metadata": {},
   "source": [
    "#### Testing"
   ]
  },
  {
   "cell_type": "code",
   "execution_count": 8,
   "metadata": {},
   "outputs": [
    {
     "name": "stdout",
     "output_type": "stream",
     "text": [
      "What is the species of your pet animal? (eg. Dog, Cat, Fish, etc.)\n"
     ]
    },
    {
     "name": "stdin",
     "output_type": "stream",
     "text": [
      " Dog\n"
     ]
    },
    {
     "name": "stdout",
     "output_type": "stream",
     "text": [
      "I love the animal species Dog!\n"
     ]
    },
    {
     "data": {
      "text/plain": [
       "Dog"
      ]
     },
     "execution_count": 8,
     "metadata": {},
     "output_type": "execute_result"
    }
   ],
   "source": [
    "// TEST CODE for method askPetSpecies\n",
    "\n",
    "askPetSpecies();"
   ]
  },
  {
   "cell_type": "markdown",
   "metadata": {},
   "source": [
    "### askPetName\n",
    "\n",
    "#### What it does\n",
    "\n",
    "This method asks the user to type in the name of their pet.\n",
    "<br/>\n",
    "The method returns the response of the user.\n",
    "\n",
    "#### Implementation (how it works)\n",
    "\n",
    "In this method, a String type variable 'petName' is declared which is used to store the pet name later on in the method. \n",
    "\n",
    "The inputString method is passed an argument - \"What is the name of your pet?\". This String is printed/displayed to the user by the inputString method thus asking the user for the name of their pet. The user is then asked by inputString method to enter a response. \n",
    "\n",
    "This response of user is returned by the inputString method and assigned to the variable 'petName'.\n",
    "<br/>\n",
    "For example, if the user types in \"Alex\", a copy of this String literal \"Alex\" is stored into variable petName.\n",
    "\n",
    "The program prints out a message \"What a lovely name - \" followed by the pet's name which is further followed by an \"!\". This is done using string concatenation. From the above example, the program will print out \"What a lovely name - Alex!\".\n",
    "\n",
    "The method now returns the value stored in petName variable. \n"
   ]
  },
  {
   "cell_type": "code",
   "execution_count": 9,
   "metadata": {},
   "outputs": [],
   "source": [
    "// askPetName START\n",
    "// This method asks the user to type in the name of their pet.\n",
    "public static String askPetName () {\n",
    "\n",
    "    String petName;\n",
    "\n",
    "    petName = inputString(\"What is the name of your pet?\");\n",
    "    \n",
    "    System.out.println(\"What a lovely name - \" + petName + \"!\");\n",
    "\n",
    "    return petName;\n",
    "}// End of askPetName"
   ]
  },
  {
   "cell_type": "markdown",
   "metadata": {},
   "source": [
    "#### Testing"
   ]
  },
  {
   "cell_type": "code",
   "execution_count": 10,
   "metadata": {},
   "outputs": [
    {
     "name": "stdout",
     "output_type": "stream",
     "text": [
      "What is the name of your pet?\n"
     ]
    },
    {
     "name": "stdin",
     "output_type": "stream",
     "text": [
      " Alex\n"
     ]
    },
    {
     "name": "stdout",
     "output_type": "stream",
     "text": [
      "What a lovely name - Alex!\n"
     ]
    },
    {
     "data": {
      "text/plain": [
       "Alex"
      ]
     },
     "execution_count": 10,
     "metadata": {},
     "output_type": "execute_result"
    }
   ],
   "source": [
    "// TEST CODE for askPetName\n",
    "\n",
    "askPetName();"
   ]
  },
  {
   "cell_type": "markdown",
   "metadata": {},
   "source": [
    "### happyZerothBirthday\n",
    "\n",
    "\n",
    "#### What it does\n",
    "\n",
    "This method wishes the pet its Zeroth happy birthday.\n",
    "<br/>\n",
    "It takes two String type arguments to work on.\n",
    "<br/>\n",
    "This method returns nothing.\n",
    "\n",
    "#### Implementation (how it works)\n",
    "\n",
    "The program prints/displays the String \"Happy 0th Birthday \" joined with the String value stored in petName variable and \" the \" again joined with the String value stored inside petSpecies variable and then finally joined with a single character String \".\".\n",
    "\n",
    "This 'joining' of String values is called concatenation.\n",
    "\n",
    "The method ends without returning anything.\n"
   ]
  },
  {
   "cell_type": "code",
   "execution_count": 11,
   "metadata": {},
   "outputs": [],
   "source": [
    "// happyZerothBirthday START\n",
    "// This method wishes the pet its Zeroth happy birthday.\n",
    "public static void happyZerothBirthday ( Pet pet ) {\n",
    "\n",
    "    System.out.println(\"Happy 0th Birthday \" + pet.name + \" the \" + pet.species + \".\");\n",
    "\n",
    "    return;\n",
    "}// END of happyZerothBirthday"
   ]
  },
  {
   "cell_type": "markdown",
   "metadata": {},
   "source": [
    "#### Testing"
   ]
  },
  {
   "cell_type": "code",
   "execution_count": 12,
   "metadata": {},
   "outputs": [
    {
     "ename": "CompilationException",
     "evalue": "",
     "output_type": "error",
     "traceback": [
      "\u001b[1m\u001b[30m|   \u001b[1m\u001b[30m\u001b[0m\u001b[1m\u001b[30m\u001b[41mhappyZerothBirthday\u001b[0m\u001b[1m\u001b[30m(\"Alex\", \"dog\");\u001b[0m",
      "\u001b[1m\u001b[31mmethod happyZerothBirthday in class  cannot be applied to given types;\u001b[0m",
      "\u001b[1m\u001b[31m  required: Pet\u001b[0m",
      "\u001b[1m\u001b[31m  found: java.lang.String,java.lang.String\u001b[0m",
      "\u001b[1m\u001b[31m  reason: actual and formal argument lists differ in length\u001b[0m",
      ""
     ]
    }
   ],
   "source": [
    "// TEST CODE for happyZerothBirthday\n",
    "\n",
    "happyZerothBirthday(\"Alex\", \"dog\");"
   ]
  },
  {
   "cell_type": "markdown",
   "metadata": {},
   "source": [
    "### getSetPetHappyLevel\n",
    "\n",
    "\n",
    "\n",
    "#### What it does\n",
    "\n",
    "This method tells the user about how happy their pet is.\n",
    "<br/>\n",
    "This level is given on a scale from 1 to 5. The level may increase or decrease at random.\n",
    "<br/>\n",
    "It takes the pet record as an argument.\n",
    "\n",
    "#### Implementation (how it works)\n",
    "\n",
    "In this program, an integer type variable happyLevel is declared to store the happiness level of the pet as an integer. It is initially assigned an integer value of 0.\n",
    "\n",
    "A Random type variable 'random_number' is declared using ```new Random()```. To use this in the main/final program, we need to import java.util.Random library.\n",
    "\n",
    "Then the variable happyLevel is assigned a random value from 0 to 4 using ```random_number.nextInt(5)``` method.\n",
    "\n",
    "Since we want a value from 1 through 5, the value stored in the variable happyLevel is incremented by 1 in the statement -```happyLevel = happyLevel +1;```\n",
    "\n",
    "This value of happyLevel is assigned to the happyLevel field of the record/ADT pet ising dot notation.\n",
    "\n",
    "The program prints/displays the String \"Your pet \" joined with the String value stored in petName variable/argument and \" has a happiness level of \" again joined with the integer value stored inside happyLevel variable and then finally joined with the String \" on a scale of 1-5.\".\n",
    "\n",
    "This 'joining' of String values is called concatenation.\n",
    "\n",
    "The method ends by returning updated pet record."
   ]
  },
  {
   "cell_type": "code",
   "execution_count": 13,
   "metadata": {},
   "outputs": [],
   "source": [
    "// getSetPetHappyLevel START\n",
    "// This method tells the user about how happy their pet is.\n",
    "public static Pet getSetPetHappyLevel ( Pet pet ) {\n",
    "\n",
    "    int happyLevel = 0;\n",
    "\n",
    "    Random random_number = new Random();\n",
    "\n",
    "    happyLevel = random_number.nextInt(4);\n",
    "    happyLevel = happyLevel + 1;\n",
    "\n",
    "    if(happyLevel == 1)\n",
    "    {\n",
    "        happyLevel = 2;\n",
    "    }\n",
    "\n",
    "    pet.happyLevel = happyLevel;\n",
    "\n",
    "    System.out.println(\"Your pet \" + pet.name + \" has a happiness level of \" + happyLevel + \" on a scale of 1-5.\");\n",
    "\n",
    "    return pet;\n",
    "}// END of getSetPethappyLevel"
   ]
  },
  {
   "cell_type": "markdown",
   "metadata": {},
   "source": [
    "#### Testing"
   ]
  },
  {
   "cell_type": "code",
   "execution_count": 14,
   "metadata": {},
   "outputs": [
    {
     "ename": "CompilationException",
     "evalue": "",
     "output_type": "error",
     "traceback": [
      "\u001b[1m\u001b[30m|   \u001b[1m\u001b[30m\u001b[0m\u001b[1m\u001b[30m\u001b[41mgetPetHappyLevel\u001b[0m\u001b[1m\u001b[30m( \"Alex\" );\u001b[0m",
      "\u001b[1m\u001b[31mcannot find symbol\u001b[0m",
      "\u001b[1m\u001b[31m  symbol:   method getPetHappyLevel(java.lang.String)\u001b[0m",
      ""
     ]
    }
   ],
   "source": [
    "// TEST CODE for happyZerothBirthday\n",
    "\n",
    "getPetHappyLevel( \"Alex\" );"
   ]
  },
  {
   "cell_type": "markdown",
   "metadata": {},
   "source": [
    "### explainPetHappyLevel\n",
    "\n",
    "\n",
    "\n",
    "#### What it does\n",
    "\n",
    "This method tells explains to the user the current happiness state of their pet.\n",
    "<br/>\n",
    "The user is given tips to make their pet happier if the pet is currently unhappy.\n",
    "<br/>\n",
    "It takes the pet record as an argument.\n",
    "<br/>\n",
    "Nothing is returned by this method.\n",
    "\n",
    "#### Implementation (how it works)\n",
    "\n",
    "In this method, the happyLevel of a pet is retrieved using dot notation from the record 'pet' taken as an argument. Then the value of this field decides the output of the method.\n",
    "\n",
    "if-else statements are used in this method to separate the different outputs the method will give at different happy levels.\n",
    "\n",
    "the expressions involving ```pet.happylevel ==``` are used to check whether the happiness level is equal to a particular value.\n",
    "\n",
    "If the value stored inside pet.happyLevel is 1, then it will print/display \"Your pet is very sad :(. Play with your pet.\".\n",
    "\n",
    "The method prints such String values accordingly.\n",
    "\n",
    "If the value stored inside pet.happyLevel is 5, then it will print/display \"Your pet is very happy :)\"."
   ]
  },
  {
   "cell_type": "code",
   "execution_count": 15,
   "metadata": {},
   "outputs": [],
   "source": [
    "// explainPetHappyLevel START\n",
    "// This method tells explains to the user the current happiness state of their pet.\n",
    "public static void explainPetHappyLevel ( Pet pet ) {\n",
    "\n",
    "    if (pet.happyLevel == 1)\n",
    "    {\n",
    "        System.out.println(\"Your pet is very sad :(. Play with your pet.\");\n",
    "    }\n",
    "\n",
    "    else if (pet.happyLevel == 2)\n",
    "    {\n",
    "        System.out.println(\"Your pet is not happy. Give your pet a toy to play with.\");\n",
    "    }\n",
    "\n",
    "    else if (pet.happyLevel == 3)\n",
    "    {\n",
    "        System.out.println(\"Your pet is okay. Give your pet a toy to play with.\");\n",
    "    }\n",
    "\n",
    "    else if (pet.happyLevel == 4)\n",
    "    {\n",
    "        System.out.println(\"Your pet is doing good! you know how to make him happy :)\");\n",
    "    }\n",
    "\n",
    "    else\n",
    "    {\n",
    "        System.out.println(\"Your pet is very happy :)\");\n",
    "    }\n",
    "\n",
    "}// END explainPetHappyLevel"
   ]
  },
  {
   "cell_type": "markdown",
   "metadata": {},
   "source": [
    "#### Testing"
   ]
  },
  {
   "cell_type": "code",
   "execution_count": 16,
   "metadata": {},
   "outputs": [
    {
     "name": "stdout",
     "output_type": "stream",
     "text": [
      "Your pet is doing good! you know how to make him happy :)\n"
     ]
    }
   ],
   "source": [
    "// TEST CODE for explainPetHappyLevel\n",
    "\n",
    "Pet pet = new Pet();\n",
    "pet.name = \"Alex\";\n",
    "pet.species = \"Dog\";\n",
    "pet.happyLevel = 4;\n",
    "\n",
    "explainPetHappyLevel(pet);"
   ]
  },
  {
   "cell_type": "markdown",
   "metadata": {},
   "source": [
    "### playWithPet\n",
    "\n",
    "\n",
    "#### What it does\n",
    "\n",
    "This method lets the user play with their pet.\n",
    "<br/>\n",
    "It takes the pet's record as an argument.\n",
    "<br/>\n",
    "It return the pet's final happiness level.\n",
    "\n",
    "#### Implementation (how it works)\n",
    "\n",
    "In this method, pet record's ```happyLevel``` field is accessed using dot notation. The the value retrieved from this field is converted to a double type and assigned to a newly declared double type variable ```happyLevel```. \n",
    "<br/>\n",
    "A ```while``` loop is used here to repeat the game.\n",
    "<br/>\n",
    "The ```System.out.println()``` method is used to display the different options the user can choose from. This is done by a for-loop accessed String type array ```petPlayOptions``` containing all the pet's play options.\n",
    "<br/>\n",
    "An integer type variable ```response``` is declared with the intent to store the choice of the user.\n",
    "<br/>\n",
    "The ```inputInt()``` method is used here to ask the user their choice. The value returned is assigned to the variable ```response```.\n",
    "<br/>\n",
    "if-then-else statements are used to manipulate the value held by the variable ```happyLevel```.\n",
    "<br/>\n",
    "The current 'happyLevel' is displayed/printed out to the user using ```System.out.println()``` method.\n",
    "<br/>\n",
    "```explainPetHappyLevel``` is used to print a message to the user about their pet's happiness.\n",
    "<br/>\n",
    "Dot notation is used again to update the ```happyLevel``` field of the record ```pet```.\n",
    "<br/>\n",
    "Finally, when the loop exits, two if statements are used to decide whether the user is a good owner or not.\n",
    "\n",
    "Then the method returns the updated record ```pet```."
   ]
  },
  {
   "cell_type": "code",
   "execution_count": 17,
   "metadata": {},
   "outputs": [],
   "source": [
    "// playWithPet START\n",
    "// This method lets the user play with their pet.\n",
    "public static Pet playWithPet( Pet pet ){\n",
    "\n",
    "    double happyLevel = (double) pet.happyLevel;\n",
    "\n",
    "    final String[] petPlayOptions = {\n",
    "        \"Play with \" + pet.name + \".\",\n",
    "        \"Feed \" + pet.name + \".\",\n",
    "        \"Take \" + pet.name + \" out for a walk (if possible).\",\n",
    "        \"Clean \" + pet.name + \".\",\n",
    "        \"Do nothing.\",\n",
    "        \"Exit.\"\n",
    "    };\n",
    "\n",
    "    boolean EXIT_CODE = false;\n",
    "        \n",
    "    while ( ((int) happyLevel >= 1 && (int) happyLevel != 5 ) && ( EXIT_CODE == false) )\n",
    "    {\n",
    "        System.out.println(\"You can do the following - \");\n",
    "        for (int i=0; i<petPlayOptions.length; i++){\n",
    "            System.out.println((i+1) + \") \" + petPlayOptions[i]);\n",
    "        }\n",
    "\n",
    "        int response = inputInt(\"Enter a number to chose from above : \");\n",
    "        \n",
    "        if (response==1)\n",
    "        {\n",
    "            happyLevel += 1.0;\n",
    "        }\n",
    "    \n",
    "        else if (response == 2)\n",
    "        {\n",
    "            happyLevel += 0.75;\n",
    "        }\n",
    "    \n",
    "        else if (response == 3)\n",
    "        {\n",
    "            happyLevel += 0.75;\n",
    "        }\n",
    "        \n",
    "        else if (response == 4)\n",
    "        {\n",
    "            happyLevel += 0.5;\n",
    "        }\n",
    "\n",
    "        else if (response == 5)\n",
    "        {\n",
    "            happyLevel = happyLevel - 1.0;\n",
    "        }\n",
    "        \n",
    "        else if (response == 6)\n",
    "        {\n",
    "            happyLevel = happyLevel - 1.0;\n",
    "            EXIT_CODE = true;\n",
    "        }\n",
    "\n",
    "        else\n",
    "        {\n",
    "            System.out.println(\"Invalid option!\");\n",
    "        }\n",
    "\n",
    "        System.out.println(\"Current happiness level : \" + (int) happyLevel);\n",
    "\n",
    "        pet.happyLevel = (int) happyLevel;\n",
    "        \n",
    "        explainPetHappyLevel( pet );\n",
    "    }\n",
    "\n",
    "    if ( (int) happyLevel == 0)\n",
    "    {\n",
    "        System.out.println(\"GAME OVER! You were not a good owner.\");\n",
    "    }\n",
    "    if( (int) happyLevel == 5)\n",
    "    {\n",
    "        System.out.println(pet.name + \": You are a great owner.\");\n",
    "    }\n",
    "\n",
    "    return pet;\n",
    "}// playWithPet END"
   ]
  },
  {
   "cell_type": "markdown",
   "metadata": {},
   "source": [
    "#### Testing"
   ]
  },
  {
   "cell_type": "code",
   "execution_count": 18,
   "metadata": {},
   "outputs": [
    {
     "name": "stdout",
     "output_type": "stream",
     "text": [
      "You can do the following - \n",
      "1) Play with Alex.\n",
      "2) Feed Alex.\n",
      "3) Take Alex out for a walk (if possible).\n",
      "4) Clean Alex.\n",
      "5) Do nothing.\n",
      "6) Exit.\n",
      "Enter a number to chose from above : \n"
     ]
    },
    {
     "name": "stdin",
     "output_type": "stream",
     "text": [
      " 1\n"
     ]
    },
    {
     "name": "stdout",
     "output_type": "stream",
     "text": [
      "Current happiness level : 4\n",
      "Your pet is doing good! you know how to make him happy :)\n",
      "You can do the following - \n",
      "1) Play with Alex.\n",
      "2) Feed Alex.\n",
      "3) Take Alex out for a walk (if possible).\n",
      "4) Clean Alex.\n",
      "5) Do nothing.\n",
      "6) Exit.\n",
      "Enter a number to chose from above : \n"
     ]
    },
    {
     "name": "stdin",
     "output_type": "stream",
     "text": [
      " 1\n"
     ]
    },
    {
     "name": "stdout",
     "output_type": "stream",
     "text": [
      "Current happiness level : 5\n",
      "Your pet is very happy :)\n",
      "Alex: You are a great owner.\n"
     ]
    },
    {
     "data": {
      "text/plain": [
       "REPL.$JShell$12$Pet@44f9f22b"
      ]
     },
     "execution_count": 18,
     "metadata": {},
     "output_type": "execute_result"
    }
   ],
   "source": [
    "Pet pet = new Pet();\n",
    "\n",
    "pet.name = \"Alex\";\n",
    "pet.species = \"Dog\";\n",
    "pet.happyLevel = 3;\n",
    "\n",
    "playWithPet( pet )"
   ]
  },
  {
   "cell_type": "markdown",
   "metadata": {},
   "source": [
    "### createPet\n",
    "\n",
    "\n",
    "#### What it does\n",
    "\n",
    "A method to create a pet record.\n",
    "<br/>\n",
    "It takes no argument.\n",
    "<br/>\n",
    "It returns a Pet ADT/record.\n",
    "\n",
    "#### Implementation (how it works)\n",
    "\n",
    "In this method, Two final String type variables ```petSpecies``` initialised with the value returned by the ```askPetSpecies``` method and ```petName``` initialised with the value returned by the ```askPetName``` method.\n",
    "<br/>\n",
    "A Pet type record ```pet``` is declared. The ```name``` field of this newly created record is assigned the value of the final variable ```petName```. The ```species``` field of this record is assigned a copy of the value inside the variable ```petSpecies```.\n",
    "<br/>\n",
    "The ```happyZerothBirthday``` method is called upon the record ```pet```.\n",
    "<br/>\n",
    "Finally, the record ```pet``` is returned by this method."
   ]
  },
  {
   "cell_type": "code",
   "execution_count": 19,
   "metadata": {},
   "outputs": [],
   "source": [
    "// createPet START\n",
    "// A method to create a pet record.\n",
    "public static Pet createPet (){\n",
    "\n",
    "    final String petSpecies = askPetSpecies();\n",
    "    final String petName = askPetName();\n",
    "\n",
    "    Pet pet = new Pet();\n",
    "    pet.name = petName;\n",
    "    pet.species = petSpecies;\n",
    "    \n",
    "    happyZerothBirthday( pet );\n",
    "\n",
    "    return pet;\n",
    "}// createPet END"
   ]
  },
  {
   "cell_type": "markdown",
   "metadata": {},
   "source": [
    "#### Testing"
   ]
  },
  {
   "cell_type": "code",
   "execution_count": 20,
   "metadata": {},
   "outputs": [
    {
     "name": "stdout",
     "output_type": "stream",
     "text": [
      "What is the species of your pet animal? (eg. Dog, Cat, Fish, etc.)\n"
     ]
    },
    {
     "name": "stdin",
     "output_type": "stream",
     "text": [
      " Dog\n"
     ]
    },
    {
     "name": "stdout",
     "output_type": "stream",
     "text": [
      "I love the animal species Dog!\n",
      "What is the name of your pet?\n"
     ]
    },
    {
     "name": "stdin",
     "output_type": "stream",
     "text": [
      " Alex\n"
     ]
    },
    {
     "name": "stdout",
     "output_type": "stream",
     "text": [
      "What a lovely name - Alex!\n",
      "Happy 0th Birthday Alex the Dog.\n"
     ]
    }
   ],
   "source": [
    "// TEST CODE for createPet\n",
    "\n",
    "Pet pet = createPet();\n"
   ]
  },
  {
   "cell_type": "markdown",
   "metadata": {},
   "source": [
    "### savePetInformation\n",
    "\n",
    "\n",
    "#### What it does\n",
    "\n",
    "This method lets the user save the current pet's information into a permanent file on their computer.\n",
    "<br/>\n",
    "It takes the pet's record and the file's name (String type variable ```fileName```) as arguments.\n",
    "<br/>\n",
    "It does not return anything.\n",
    "\n",
    "#### Implementation (how it works)\n",
    "\n",
    "In this method, A PrintWriter type variable ```petFile``` is declared with a FileWriter on the file or file's name retrieved from the argument ```fileName```.\n",
    "<br/>\n",
    "The all the fields of the record ```pet``` (given as an argument) are accessed using dot notation and concatenated to each other separated by commas(\",\") and then printed/written to the given file using the PrintWriter ```petFile.println()``` method.\n",
    "<br/>\n",
    "The file is closed using the ```petFile.close()``` method.\n",
    "<br/>\n",
    "A message is printed/displayed to the user declaring that the information of their pet is saved in csv format successfully."
   ]
  },
  {
   "cell_type": "code",
   "execution_count": 21,
   "metadata": {},
   "outputs": [],
   "source": [
    "// savePetInformation START\n",
    "// This method lets the user save \n",
    "// the current pet's information into a permanent file on their computer.\n",
    "public static void savePetInformation( Pet pet , String fileName ) throws IOException {\n",
    "\n",
    "    PrintWriter petFile = new PrintWriter( new FileWriter(fileName));\n",
    "\n",
    "    petFile.println( pet.name + \",\" + pet.species + \",\" + pet.happyLevel );\n",
    "\n",
    "    petFile.close();\n",
    "\n",
    "    System.out.println( fileName + \" written in csv format successfully!\");\n",
    "    return;\n",
    "}// savePetInformation END"
   ]
  },
  {
   "cell_type": "markdown",
   "metadata": {},
   "source": [
    "#### Testing"
   ]
  },
  {
   "cell_type": "code",
   "execution_count": 22,
   "metadata": {},
   "outputs": [
    {
     "name": "stdout",
     "output_type": "stream",
     "text": [
      "Bob_Dog_Information.csv written in csv format successfully!\n"
     ]
    }
   ],
   "source": [
    "// TEST CODE for savePetInformation\n",
    "\n",
    "Pet pet = new Pet();\n",
    "\n",
    "pet.name = \"Bob\";\n",
    "pet.species = \"Dog\";\n",
    "pet.happyLevel = 3;\n",
    "\n",
    "savePetInformation( pet, \"Bob_Dog_Information.csv\");"
   ]
  },
  {
   "cell_type": "markdown",
   "metadata": {},
   "source": [
    "### savePetInformation\n",
    "\n",
    "\n",
    "#### What it does\n",
    "\n",
    "This creates Pet records from String type arrays carrying information of a pet.\n",
    "<br/>\n",
    "It takes the pet information array and the happy level decrease factor as arguments.\n",
    "<br/>\n",
    "It returns a Pet type record.\n",
    "\n",
    "#### Implementation (how it works)\n",
    "\n",
    "In this method, a new Pet type record ```pet``` is created. Then using dot notation, each field of the record is assigned a copy of the value stored at some index inside the String type array ```petInformationArray``` given to the method as an argument. The name of the pet is stored at index 0 of this array, so index 0 is accessed and a copy of the value is assigned to the ```name``` field of the record ```pet```. The pet's species is stored at index 1 of the array so a copy of the value at index 1 is assigned to the ```species``` field of the record ```pet```. The happy level of the pet is stored at index 2 of the array as a String, so it is accessed and converted to an integer using the ```Integer.parseInt``` method. The result value is subtracted by a happy level decrease factor (```happyLevelDecreaseFactor```) and then this final value is assigned to the ```happyLevel``` field of the record ```pet```. \n",
    "\n",
    "Finally, the updated record ```pet``` is returned by this method."
   ]
  },
  {
   "cell_type": "code",
   "execution_count": 23,
   "metadata": {},
   "outputs": [],
   "source": [
    "public static Pet arrayToPet ( String[] petInformationArray , int happyLevelDecreaseFactor ) {\n",
    "\n",
    "    Pet pet = new Pet();\n",
    "    \n",
    "    pet.name = petInformationArray[0];\n",
    "    pet.species = petInformationArray[1];\n",
    "    pet.happyLevel = Integer.parseInt(petInformationArray[2]) - happyLevelDecreaseFactor;\n",
    "    \n",
    "    return pet; \n",
    "}"
   ]
  },
  {
   "cell_type": "markdown",
   "metadata": {},
   "source": [
    "#### Testing"
   ]
  },
  {
   "cell_type": "code",
   "execution_count": 24,
   "metadata": {},
   "outputs": [
    {
     "name": "stdout",
     "output_type": "stream",
     "text": [
      "Name -> Alex\n",
      "Species -> Dog\n",
      "Happy Level -> 2\n"
     ]
    }
   ],
   "source": [
    "// TEST CODE for arrayToPet\n",
    "\n",
    "String[] petArray = {\"Alex\", \"Dog\", \"3\"};\n",
    "int happyLevelDecreaseFactor = 1;\n",
    "\n",
    "Pet pet = arrayToPet( petArray, happyLevelDecreaseFactor );\n",
    "\n",
    "System.out.println(\"Name -> \" + pet.name);\n",
    "System.out.println(\"Species -> \" + pet.species);\n",
    "System.out.println(\"Happy Level -> \" + pet.happyLevel);"
   ]
  },
  {
   "cell_type": "markdown",
   "metadata": {},
   "source": [
    "### loadPetInformation\n",
    "\n",
    "\n",
    "#### What it does\n",
    "\n",
    "This method lets the user load the previously saved pet's information into a permanent file on their computer.\n",
    "<br/>\n",
    "It takes the file's name (String type variable ```fileName```) as an argument.\n",
    "<br/>\n",
    "It returns a Pet ADT/record.\n",
    "<br/>\n",
    "The method first confirms whether the given file exists or not. If not, the it prompts the user to create a new pet.\n",
    "\n",
    "#### Implementation (how it works)\n",
    "\n",
    "In this method, if-else statements are used to first confirm whether the given file exists or not. This is done using the ```File().exists``` method called on the argument ```fileName```. The value returned is checked for ```true``` or ```false```.\n",
    "<br/>\n",
    "If it is false, it means that the given file does not exist. Then a message is printed to the user to create a new pet.\n",
    "The ```createPet``` and the ```getSetPetHappyLevel``` are used here to do this.\n",
    "\n",
    "However, if the file exists, a BufferReader type variable ```inputStream``` is declared to read the given file's contents.\n",
    "A String type variable ```petInformationLine``` is declared and initialised with the value returned by the ```inputStream.readLine()``` method.\n",
    "\n",
    "A String type array ```petInformationArray``` is declared. The ```split(\",\")``` method is used on the String type variable ```petInformationLine``` to split/fragment the String at every comma(\",\"). The value returned is an array an is assigned to the newly declared array ```petInformationArray```.\n",
    "\n",
    "A new Pet type record ```pet``` is created. Each field of this record is assigned the corresponding values form ```petInformationArray```. The ```name``` field is assigned the value at the first position and the ```species``` field is assigned the value at the second position. The value at the third position is converted first into an integer using the ```Integer.parseInt``` method and assigned to the ```happyLevel``` field of the record ```pet```. The value is decreased by one to show the pet's decreased happy level after some time.\n",
    "\n",
    "The updated record ```pet``` is returned."
   ]
  },
  {
   "cell_type": "code",
   "execution_count": 25,
   "metadata": {},
   "outputs": [],
   "source": [
    "// loadPetInformation START\n",
    "// This method lets the user load \n",
    "// the previously saved pet's information \n",
    "// into a permanent file on their computer.\n",
    "public static Pet loadPetInformation ( String fileName ) throws IOException {\n",
    "\n",
    "    if ( new File(fileName).exists() == false ){\n",
    "        System.out.println(\"An old pet does not exist!. Choosing a new one to play with.\");\n",
    "        Pet pet = createPet();\n",
    "        pet = getSetPetHappyLevel( pet );\n",
    "        return pet;\n",
    "        \n",
    "    }\n",
    "    else\n",
    "    {\n",
    "        BufferedReader inputStream = new BufferedReader( new FileReader( fileName ));\n",
    "\n",
    "        String petInformationLine = inputStream.readLine();\n",
    "    \n",
    "        String[] petInformationArray = petInformationLine.split(\",\");\n",
    "    \n",
    "        Pet pet = arrayToPet( petInformationArray, 1 );\n",
    "        return pet;\n",
    "    }\n",
    "}// loadPetInformation END"
   ]
  },
  {
   "cell_type": "markdown",
   "metadata": {},
   "source": [
    "#### Testing"
   ]
  },
  {
   "cell_type": "code",
   "execution_count": 26,
   "metadata": {},
   "outputs": [
    {
     "name": "stdout",
     "output_type": "stream",
     "text": [
      "Name : Bob\n",
      "Species : Dog\n",
      "Happy Level : 2\n"
     ]
    }
   ],
   "source": [
    "// TEST CODE for loadPetInformation\n",
    "\n",
    "Pet pet = loadPetInformation(\"Bob_Dog_Information.csv\");\n",
    "\n",
    "System.out.println(\"Name : \" + pet.name);\n",
    "System.out.println(\"Species : \" + pet.species);\n",
    "System.out.println(\"Happy Level : \" + pet.happyLevel);"
   ]
  },
  {
   "cell_type": "markdown",
   "metadata": {},
   "source": [
    "# Running the program\n",
    "Run the following call to simulate running the complete program."
   ]
  },
  {
   "cell_type": "code",
   "execution_count": 27,
   "metadata": {},
   "outputs": [
    {
     "name": "stdout",
     "output_type": "stream",
     "text": [
      "Do you want to play with a new pet or old pet? (new/old)\n"
     ]
    },
    {
     "name": "stdin",
     "output_type": "stream",
     "text": [
      " new\n"
     ]
    },
    {
     "name": "stdout",
     "output_type": "stream",
     "text": [
      "What is the species of your pet animal? (eg. Dog, Cat, Fish, etc.)\n"
     ]
    },
    {
     "name": "stdin",
     "output_type": "stream",
     "text": [
      " Dog\n"
     ]
    },
    {
     "name": "stdout",
     "output_type": "stream",
     "text": [
      "I love the animal species Dog!\n",
      "What is the name of your pet?\n"
     ]
    },
    {
     "name": "stdin",
     "output_type": "stream",
     "text": [
      " Alex\n"
     ]
    },
    {
     "name": "stdout",
     "output_type": "stream",
     "text": [
      "What a lovely name - Alex!\n",
      "Happy 0th Birthday Alex the Dog.\n",
      "Your pet Alex has a happiness level of 2 on a scale of 1-5.\n",
      "You can do the following - \n",
      "1) Play with Alex.\n",
      "2) Feed Alex.\n",
      "3) Take Alex out for a walk (if possible).\n",
      "4) Clean Alex.\n",
      "5) Do nothing.\n",
      "6) Exit.\n",
      "Enter a number to chose from above : \n"
     ]
    },
    {
     "name": "stdin",
     "output_type": "stream",
     "text": [
      " 1\n"
     ]
    },
    {
     "name": "stdout",
     "output_type": "stream",
     "text": [
      "Current happiness level : 3\n",
      "Your pet is okay. Give your pet a toy to play with.\n",
      "You can do the following - \n",
      "1) Play with Alex.\n",
      "2) Feed Alex.\n",
      "3) Take Alex out for a walk (if possible).\n",
      "4) Clean Alex.\n",
      "5) Do nothing.\n",
      "6) Exit.\n",
      "Enter a number to chose from above : \n"
     ]
    },
    {
     "name": "stdin",
     "output_type": "stream",
     "text": [
      " 3\n"
     ]
    },
    {
     "name": "stdout",
     "output_type": "stream",
     "text": [
      "Current happiness level : 3\n",
      "Your pet is okay. Give your pet a toy to play with.\n",
      "You can do the following - \n",
      "1) Play with Alex.\n",
      "2) Feed Alex.\n",
      "3) Take Alex out for a walk (if possible).\n",
      "4) Clean Alex.\n",
      "5) Do nothing.\n",
      "6) Exit.\n",
      "Enter a number to chose from above : \n"
     ]
    },
    {
     "name": "stdin",
     "output_type": "stream",
     "text": [
      " 2\n"
     ]
    },
    {
     "name": "stdout",
     "output_type": "stream",
     "text": [
      "Current happiness level : 4\n",
      "Your pet is doing good! you know how to make him happy :)\n",
      "You can do the following - \n",
      "1) Play with Alex.\n",
      "2) Feed Alex.\n",
      "3) Take Alex out for a walk (if possible).\n",
      "4) Clean Alex.\n",
      "5) Do nothing.\n",
      "6) Exit.\n",
      "Enter a number to chose from above : \n"
     ]
    },
    {
     "name": "stdin",
     "output_type": "stream",
     "text": [
      " 6\n"
     ]
    },
    {
     "name": "stdout",
     "output_type": "stream",
     "text": [
      "Current happiness level : 3\n",
      "Your pet is okay. Give your pet a toy to play with.\n",
      "Store pet information? (y/n)\n"
     ]
    },
    {
     "name": "stdin",
     "output_type": "stream",
     "text": [
      " y\n"
     ]
    },
    {
     "name": "stdout",
     "output_type": "stream",
     "text": [
      "petInformation.csv written in csv format successfully!\n",
      "Goodbye!\n"
     ]
    }
   ],
   "source": [
    "public static void petsim () throws IOException {\n",
    "\n",
    "    final String fileName = \"petInformation.csv\";\n",
    "\n",
    "    String loadPetOption = inputString(\"Do you want to play with a new pet or old pet? (new/old)\");\n",
    "\n",
    "    boolean EXIT_CODE = false;\n",
    "    while ( EXIT_CODE == false ){\n",
    "\n",
    "        if ( (loadPetOption.equals(\"new\")) || (loadPetOption.equals(\"old\")) )\n",
    "        {\n",
    "            EXIT_CODE = true;\n",
    "        }\n",
    "        else\n",
    "        {\n",
    "            \n",
    "            System.out.println(\"Invalid choice! Enter either new or old.\");\n",
    "            EXIT_CODE = false;\n",
    "            loadPetOption = inputString(\"Do you want to play with a new pet or old pet? (new/old)\");\n",
    "        }\n",
    "    }\n",
    "\n",
    "    if (loadPetOption.equals(\"new\"))\n",
    "    {\n",
    "        Pet pet = createPet();\n",
    "        pet = getSetPetHappyLevel( pet );\n",
    "        pet = playWithPet( pet );\n",
    "\n",
    "        String storePet = inputString(\"Store pet information? (y/n)\");\n",
    "        if (storePet.equals(\"y\")){\n",
    "            savePetInformation( pet , fileName );\n",
    "        }\n",
    "    }\n",
    "    else\n",
    "    {\n",
    "        Pet pet = loadPetInformation( fileName );\n",
    "        explainPetHappyLevel( pet );\n",
    "        pet = playWithPet( pet );\n",
    "\n",
    "        String storePet = inputString(\"Store pet information? (y/n)\");\n",
    "        if (storePet.equals(\"y\")){\n",
    "            savePetInformation( pet , fileName );\n",
    "        }\n",
    "    }\n",
    "\n",
    "    System.out.println(\"Goodbye!\");\n",
    "    return;\n",
    "}\n",
    "\n",
    "petsim();"
   ]
  },
  {
   "cell_type": "markdown",
   "metadata": {},
   "source": [
    "## The complete program\n",
    "This version will only compile here. To run it copy it into a file called initials.java on your local computer and compile and run it there."
   ]
  },
  {
   "cell_type": "code",
   "execution_count": 28,
   "metadata": {
    "editable": true,
    "slideshow": {
     "slide_type": ""
    },
    "tags": []
   },
   "outputs": [],
   "source": [
    "/* ***************************************\n",
    "  @author      Abhiraj Shrotriya\n",
    "  @StudentID   230109771        \n",
    "  @date        9 December 2023\n",
    "  @version     1\n",
    "\n",
    "    A program that Simulates a pet of some \n",
    "    species and one that has a name .\n",
    "   ****************************************/\n",
    "\n",
    "import java.util.Scanner;\n",
    "import java.util.Random;\n",
    "import java.io.*;\n",
    "\n",
    "// class Pet START\n",
    "// A record/ADT for pets.\n",
    "class Pet{\n",
    "    String name;\n",
    "    String species;\n",
    "    int happyLevel;\n",
    "}// class Pet END\n",
    "\n",
    "\n",
    "// class petSimulator\n",
    "// The main class contatining the program.\n",
    "class petSimulator\n",
    "{\n",
    "    // main START\n",
    "    // The main/ultimate method of this class.\n",
    "    public static void main () throws IOException {\n",
    "    \n",
    "        final String fileName = \"petInformation.csv\";\n",
    "    \n",
    "        String loadPetOption = inputString(\"Do you want to play with a new pet or old pet? (new/old)\");\n",
    "    \n",
    "        boolean EXIT_CODE = false;\n",
    "        while ( EXIT_CODE == false ){\n",
    "    \n",
    "            if ( (loadPetOption.equals(\"new\")) || (loadPetOption.equals(\"old\")) )\n",
    "            {\n",
    "                EXIT_CODE = true;\n",
    "            }\n",
    "            else\n",
    "            {\n",
    "                \n",
    "                System.out.println(\"Invalid choice! Enter either new or old.\");\n",
    "                EXIT_CODE = false;\n",
    "                loadPetOption = inputString(\"Do you want to play with a new pet or old pet? (new/old)\");\n",
    "            }\n",
    "        }\n",
    "    \n",
    "        if (loadPetOption.equals(\"new\"))\n",
    "        {\n",
    "            Pet pet = createPet();\n",
    "            pet = getSetPetHappyLevel( pet );\n",
    "            pet = playWithPet( pet );\n",
    "    \n",
    "            String storePet = inputString(\"Store pet information? (y/n)\");\n",
    "            if (storePet.equals(\"y\")){\n",
    "                savePetInformation( pet , fileName );\n",
    "            }\n",
    "        }\n",
    "        else\n",
    "        {\n",
    "            Pet pet = loadPetInformation( fileName );\n",
    "            explainPetHappyLevel( pet );\n",
    "            pet = playWithPet( pet );\n",
    "    \n",
    "            String storePet = inputString(\"Store pet information? (y/n)\");\n",
    "            if (storePet.equals(\"y\")){\n",
    "                savePetInformation( pet , fileName );\n",
    "            }\n",
    "        }\n",
    "    \n",
    "        System.out.println(\"Goodbye!\");\n",
    "        return;\n",
    "    }// main END\n",
    "\n",
    "    \n",
    "    // inputString START\n",
    "    // This method prints/displays a message to the user and then prompts the user to type in something.\n",
    "    public static String inputString (String message){\n",
    "    \n",
    "        String response;\n",
    "        Scanner keyboard = new Scanner(System.in);\n",
    "    \n",
    "        System.out.println(message);\n",
    "        response = keyboard.nextLine();\n",
    "    \n",
    "        return response;\n",
    "    }// END inputString\n",
    "\n",
    "\n",
    "    // inputInt START\n",
    "    // It prints out a message to the user and then asks the user to type in an Integer as a response.\n",
    "    public static int inputInt( String message ){\n",
    "    \n",
    "        String stringResponse;\n",
    "        int intResponse;\n",
    "        Scanner keyboard = new Scanner(System.in);\n",
    "    \n",
    "        System.out.println(message);\n",
    "        stringResponse = keyboard.nextLine();\n",
    "        intResponse = Integer.parseInt(stringResponse);\n",
    "    \n",
    "        return intResponse;\n",
    "    }// END inputInt\n",
    "\n",
    "\n",
    "    // askPetSpecies START\n",
    "    // This method asks the user if their pet is a dog, cat, fish or any other species of animal.\n",
    "    public static String askPetSpecies () {\n",
    "        \n",
    "        String petSpecies;\n",
    "    \n",
    "        petSpecies = inputString(\"What is the species of your pet animal? (eg. Dog, Cat, Fish, etc.)\");\n",
    "        \n",
    "        System.out.println(\"I love the animal species \" + petSpecies + \"!\");\n",
    "    \n",
    "        return petSpecies;\n",
    "    }//END of askPetSpecies\n",
    "\n",
    "\n",
    "    // askPetName START\n",
    "    // This method asks the user to type in the name of their pet.\n",
    "    public static String askPetName () {\n",
    "    \n",
    "        String petName;\n",
    "    \n",
    "        petName = inputString(\"What is the name of your pet?\");\n",
    "        \n",
    "        System.out.println(\"What a lovely name - \" + petName + \"!\");\n",
    "    \n",
    "        return petName;\n",
    "    }// End of askPetName\n",
    "\n",
    "\n",
    "    // happyZerothBirthday START\n",
    "    // This method wishes the pet its Zeroth happy birthday.\n",
    "    public static void happyZerothBirthday ( Pet pet ) {\n",
    "    \n",
    "        System.out.println(\"Happy 0th Birthday \" + pet.name + \" the \" + pet.species + \".\");\n",
    "    \n",
    "        return;\n",
    "    }// END of happyZerothBirthday\n",
    "\n",
    "\n",
    "    // getSetPetHappyLevel START\n",
    "    // This method tells the user about how happy their pet is.\n",
    "    public static Pet getSetPetHappyLevel ( Pet pet ) {\n",
    "    \n",
    "        int happyLevel = 0;\n",
    "    \n",
    "        Random random_number = new Random();\n",
    "    \n",
    "        happyLevel = random_number.nextInt(4);\n",
    "        happyLevel = happyLevel + 1;\n",
    "    \n",
    "        if(happyLevel == 1)\n",
    "        {\n",
    "            happyLevel = 2;\n",
    "        }\n",
    "    \n",
    "        pet.happyLevel = happyLevel;\n",
    "    \n",
    "        System.out.println(\"Your pet \" + pet.name + \" has a happiness level of \" + happyLevel + \" on a scale of 1-5.\");\n",
    "    \n",
    "        return pet;\n",
    "    }// END of getSetPethappyLevel\n",
    "\n",
    "\n",
    "    // explainPetHappyLevel START\n",
    "    // This method tells explains to the user the current happiness state of their pet.\n",
    "    public static void explainPetHappyLevel ( Pet pet ) {\n",
    "    \n",
    "        if (pet.happyLevel == 1)\n",
    "        {\n",
    "            System.out.println(\"Your pet is very sad :(. Play with your pet.\");\n",
    "        }\n",
    "    \n",
    "        else if (pet.happyLevel == 2)\n",
    "        {\n",
    "            System.out.println(\"Your pet is not happy. Give your pet a toy to play with.\");\n",
    "        }\n",
    "    \n",
    "        else if (pet.happyLevel == 3)\n",
    "        {\n",
    "            System.out.println(\"Your pet is okay. Give your pet a toy to play with.\");\n",
    "        }\n",
    "    \n",
    "        else if (pet.happyLevel == 4)\n",
    "        {\n",
    "            System.out.println(\"Your pet is doing good! you know how to make him happy :)\");\n",
    "        }\n",
    "    \n",
    "        else\n",
    "        {\n",
    "            System.out.println(\"Your pet is very happy :)\");\n",
    "        }\n",
    "    \n",
    "    }// END explainPetHappyLevel\n",
    "\n",
    "\n",
    "    // playWithPet START\n",
    "    // This method lets the user play with their pet.\n",
    "    public static Pet playWithPet( Pet pet ){\n",
    "    \n",
    "        double happyLevel = (double) pet.happyLevel;\n",
    "    \n",
    "        final String[] petPlayOptions = {\n",
    "            \"Play with \" + pet.name + \".\",\n",
    "            \"Feed \" + pet.name + \".\",\n",
    "            \"Take \" + pet.name + \" out for a walk (if possible).\",\n",
    "            \"Clean \" + pet.name + \".\",\n",
    "            \"Do nothing.\",\n",
    "            \"Exit.\"\n",
    "        };\n",
    "    \n",
    "        boolean EXIT_CODE = false;\n",
    "            \n",
    "        while ( ((int) happyLevel >= 1 && (int) happyLevel != 5 ) && ( EXIT_CODE == false) )\n",
    "        {\n",
    "            System.out.println(\"You can do the following - \");\n",
    "            for (int i=0; i<petPlayOptions.length; i++){\n",
    "                System.out.println((i+1) + \") \" + petPlayOptions[i]);\n",
    "            }\n",
    "    \n",
    "            int response = inputInt(\"Enter a number to chose from above : \");\n",
    "            \n",
    "            if (response==1)\n",
    "            {\n",
    "                happyLevel += 1.0;\n",
    "            }\n",
    "        \n",
    "            else if (response == 2)\n",
    "            {\n",
    "                happyLevel += 0.75;\n",
    "            }\n",
    "        \n",
    "            else if (response == 3)\n",
    "            {\n",
    "                happyLevel += 0.75;\n",
    "            }\n",
    "            \n",
    "            else if (response == 4)\n",
    "            {\n",
    "                happyLevel += 0.5;\n",
    "            }\n",
    "    \n",
    "            else if (response == 5)\n",
    "            {\n",
    "                happyLevel = happyLevel - 1.0;\n",
    "            }\n",
    "            \n",
    "            else if (response == 6)\n",
    "            {\n",
    "                happyLevel = happyLevel - 1.0;\n",
    "                EXIT_CODE = true;\n",
    "            }\n",
    "    \n",
    "            else\n",
    "            {\n",
    "                System.out.println(\"Invalid option!\");\n",
    "            }\n",
    "    \n",
    "            System.out.println(\"Current happiness level : \" + (int) happyLevel);\n",
    "    \n",
    "            pet.happyLevel = (int) happyLevel;\n",
    "            \n",
    "            explainPetHappyLevel( pet );\n",
    "        }\n",
    "    \n",
    "        if ( (int) happyLevel == 0)\n",
    "        {\n",
    "            System.out.println(\"GAME OVER! You were not a good owner.\");\n",
    "        }\n",
    "        if( (int) happyLevel == 5)\n",
    "        {\n",
    "            System.out.println(pet.name + \": You are a great owner.\");\n",
    "        }\n",
    "    \n",
    "        return pet;\n",
    "    }// playWithPet END\n",
    "\n",
    "\n",
    "    // createPet START\n",
    "    // A method to create a pet record.\n",
    "    public static Pet createPet (){\n",
    "    \n",
    "        final String petSpecies = askPetSpecies();\n",
    "        final String petName = askPetName();\n",
    "    \n",
    "        Pet pet = new Pet();\n",
    "        pet.name = petName;\n",
    "        pet.species = petSpecies;\n",
    "        \n",
    "        happyZerothBirthday( pet );\n",
    "    \n",
    "        return pet;\n",
    "    }// createPet END\n",
    "\n",
    "\n",
    "    // savePetInformation START\n",
    "    // This method lets the user save \n",
    "    // the current pet's information into a permanent file on their computer.\n",
    "    public static void savePetInformation( Pet pet , String fileName ) throws IOException {\n",
    "    \n",
    "        PrintWriter petFile = new PrintWriter( new FileWriter(fileName));\n",
    "    \n",
    "        petFile.println( pet.name + \",\" + pet.species + \",\" + pet.happyLevel );\n",
    "    \n",
    "        petFile.close();\n",
    "    \n",
    "        System.out.println( fileName + \" written in csv format successfully!\");\n",
    "        return;\n",
    "    }// savePetInformation END\n",
    "\n",
    "\n",
    "    // loadPetInformation START\n",
    "    // This method lets the user load \n",
    "    // the previously saved pet's information \n",
    "    // into a permanent file on their computer.\n",
    "    public static Pet loadPetInformation ( String fileName ) throws IOException {\n",
    "    \n",
    "        if ( new File(fileName).exists() == false ){\n",
    "            System.out.println(\"An old pet does not exist!. Choosing a new one to play with.\");\n",
    "            Pet pet = createPet();\n",
    "            pet = getSetPetHappyLevel( pet );\n",
    "            return pet;\n",
    "            \n",
    "        }\n",
    "        else\n",
    "        {\n",
    "            BufferedReader inputStream = new BufferedReader( new FileReader( fileName ));\n",
    "    \n",
    "            String petInformationLine = inputStream.readLine();\n",
    "        \n",
    "            String[] petInformationArray = petInformationLine.split(\",\");\n",
    "        \n",
    "            Pet pet = new Pet();\n",
    "        \n",
    "            pet.name = petInformationArray[0];\n",
    "            pet.species = petInformationArray[1];\n",
    "            pet.happyLevel = Integer.parseInt(petInformationArray[2]) - 1;\n",
    "        \n",
    "            return pet;\n",
    "        }\n",
    "    }// loadPetInformation END\n",
    "    \n",
    "} // END class petSimulator\n"
   ]
  },
  {
   "cell_type": "code",
   "execution_count": 29,
   "metadata": {
    "editable": true,
    "slideshow": {
     "slide_type": ""
    },
    "tags": []
   },
   "outputs": [
    {
     "name": "stdout",
     "output_type": "stream",
     "text": [
      "Do you want to play with a new pet or old pet? (new/old)\n"
     ]
    },
    {
     "name": "stdin",
     "output_type": "stream",
     "text": [
      " old\n"
     ]
    },
    {
     "name": "stdout",
     "output_type": "stream",
     "text": [
      "Your pet is not happy. Give your pet a toy to play with.\n",
      "You can do the following - \n",
      "1) Play with Alex.\n",
      "2) Feed Alex.\n",
      "3) Take Alex out for a walk (if possible).\n",
      "4) Clean Alex.\n",
      "5) Do nothing.\n",
      "6) Exit.\n",
      "Enter a number to chose from above : \n"
     ]
    },
    {
     "name": "stdin",
     "output_type": "stream",
     "text": [
      " 1\n"
     ]
    },
    {
     "name": "stdout",
     "output_type": "stream",
     "text": [
      "Current happiness level : 3\n",
      "Your pet is okay. Give your pet a toy to play with.\n",
      "You can do the following - \n",
      "1) Play with Alex.\n",
      "2) Feed Alex.\n",
      "3) Take Alex out for a walk (if possible).\n",
      "4) Clean Alex.\n",
      "5) Do nothing.\n",
      "6) Exit.\n",
      "Enter a number to chose from above : \n"
     ]
    },
    {
     "name": "stdin",
     "output_type": "stream",
     "text": [
      " 1\n"
     ]
    },
    {
     "name": "stdout",
     "output_type": "stream",
     "text": [
      "Current happiness level : 4\n",
      "Your pet is doing good! you know how to make him happy :)\n",
      "You can do the following - \n",
      "1) Play with Alex.\n",
      "2) Feed Alex.\n",
      "3) Take Alex out for a walk (if possible).\n",
      "4) Clean Alex.\n",
      "5) Do nothing.\n",
      "6) Exit.\n",
      "Enter a number to chose from above : \n"
     ]
    },
    {
     "name": "stdin",
     "output_type": "stream",
     "text": [
      " 3\n"
     ]
    },
    {
     "name": "stdout",
     "output_type": "stream",
     "text": [
      "Current happiness level : 4\n",
      "Your pet is doing good! you know how to make him happy :)\n",
      "You can do the following - \n",
      "1) Play with Alex.\n",
      "2) Feed Alex.\n",
      "3) Take Alex out for a walk (if possible).\n",
      "4) Clean Alex.\n",
      "5) Do nothing.\n",
      "6) Exit.\n",
      "Enter a number to chose from above : \n"
     ]
    },
    {
     "name": "stdin",
     "output_type": "stream",
     "text": [
      " 5\n"
     ]
    },
    {
     "name": "stdout",
     "output_type": "stream",
     "text": [
      "Current happiness level : 3\n",
      "Your pet is okay. Give your pet a toy to play with.\n",
      "You can do the following - \n",
      "1) Play with Alex.\n",
      "2) Feed Alex.\n",
      "3) Take Alex out for a walk (if possible).\n",
      "4) Clean Alex.\n",
      "5) Do nothing.\n",
      "6) Exit.\n",
      "Enter a number to chose from above : \n"
     ]
    },
    {
     "name": "stdin",
     "output_type": "stream",
     "text": [
      " 1\n"
     ]
    },
    {
     "name": "stdout",
     "output_type": "stream",
     "text": [
      "Current happiness level : 4\n",
      "Your pet is doing good! you know how to make him happy :)\n",
      "You can do the following - \n",
      "1) Play with Alex.\n",
      "2) Feed Alex.\n",
      "3) Take Alex out for a walk (if possible).\n",
      "4) Clean Alex.\n",
      "5) Do nothing.\n",
      "6) Exit.\n",
      "Enter a number to chose from above : \n"
     ]
    },
    {
     "name": "stdin",
     "output_type": "stream",
     "text": [
      " 1\n"
     ]
    },
    {
     "name": "stdout",
     "output_type": "stream",
     "text": [
      "Current happiness level : 5\n",
      "Your pet is very happy :)\n",
      "Alex: You are a great owner.\n",
      "Store pet information? (y/n)\n"
     ]
    },
    {
     "name": "stdin",
     "output_type": "stream",
     "text": [
      " y\n"
     ]
    },
    {
     "name": "stdout",
     "output_type": "stream",
     "text": [
      "petInformation.csv written in csv format successfully!\n",
      "Goodbye!\n"
     ]
    }
   ],
   "source": [
    "petSimulator.main();"
   ]
  },
  {
   "cell_type": "markdown",
   "metadata": {},
   "source": [
    "**END OF LITERATE DOCUMENT**"
   ]
  }
 ],
 "metadata": {
  "kernelspec": {
   "display_name": "Java",
   "language": "java",
   "name": "java"
  },
  "language_info": {
   "codemirror_mode": "java",
   "file_extension": ".jshell",
   "mimetype": "text/x-java-source",
   "name": "Java",
   "pygments_lexer": "java",
   "version": "11.0.8+10-LTS"
  }
 },
 "nbformat": 4,
 "nbformat_minor": 4
}
